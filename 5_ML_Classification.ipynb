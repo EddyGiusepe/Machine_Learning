{
  "nbformat": 4,
  "nbformat_minor": 0,
  "metadata": {
    "colab": {
      "name": "5_ML_Classification.ipynb",
      "provenance": [],
      "collapsed_sections": [],
      "authorship_tag": "ABX9TyOtC60eh2yu6UMy8/s4m7uX",
      "include_colab_link": true
    },
    "kernelspec": {
      "name": "python3",
      "display_name": "Python 3"
    },
    "language_info": {
      "name": "python"
    }
  },
  "cells": [
    {
      "cell_type": "markdown",
      "metadata": {
        "id": "view-in-github",
        "colab_type": "text"
      },
      "source": [
        "<a href=\"https://colab.research.google.com/github/EddyGiusepe/Machine_Learning/blob/main/5_ML_Classification.ipynb\" target=\"_parent\"><img src=\"https://colab.research.google.com/assets/colab-badge.svg\" alt=\"Open In Colab\"/></a>"
      ]
    },
    {
      "cell_type": "markdown",
      "source": [
        "<h2 align=\"center\">Machine Learning: Classificação</h2>\n",
        "\n",
        "\n",
        "\n",
        "Data Scientist.: Dr.Eddy Giusepe Chirinos Isidro"
      ],
      "metadata": {
        "id": "o_Kwr9qZEJ7f"
      }
    },
    {
      "cell_type": "markdown",
      "source": [
        "Aqui aprenderemos a tarefa de `Classificação`. A diferença da Regressão, na qual o objetivo era predezir o valor de uma variável com respeito a diferentes características, em classificação o objetivo é atribuir uma classe (Etiqueta, Label ... são os nomes comuns) a partir das diferentes características. <font color=\"orange\">Por exemplo:</font> a classificação de imagens; onde se tenta atribuir uma etiqueta em função do valor dos pixeis."
      ],
      "metadata": {
        "id": "CiVuWTx-E4GW"
      }
    },
    {
      "cell_type": "code",
      "execution_count": null,
      "metadata": {
        "id": "oZMBD-fADr_J"
      },
      "outputs": [],
      "source": [
        ""
      ]
    }
  ]
}