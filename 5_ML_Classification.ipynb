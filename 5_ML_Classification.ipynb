{
  "nbformat": 4,
  "nbformat_minor": 0,
  "metadata": {
    "colab": {
      "name": "5_ML_Classification.ipynb",
      "provenance": [],
      "collapsed_sections": [],
      "authorship_tag": "ABX9TyMUyj4uG9/srT720NnZKlzY",
      "include_colab_link": true
    },
    "kernelspec": {
      "name": "python3",
      "display_name": "Python 3"
    },
    "language_info": {
      "name": "python"
    }
  },
  "cells": [
    {
      "cell_type": "markdown",
      "metadata": {
        "id": "view-in-github",
        "colab_type": "text"
      },
      "source": [
        "<a href=\"https://colab.research.google.com/github/EddyGiusepe/Machine_Learning/blob/main/5_ML_Classification.ipynb\" target=\"_parent\"><img src=\"https://colab.research.google.com/assets/colab-badge.svg\" alt=\"Open In Colab\"/></a>"
      ]
    },
    {
      "cell_type": "markdown",
      "source": [
        "<h2 align=\"center\">Machine Learning: Classificação</h2>\n",
        "\n",
        "\n",
        "\n",
        "Data Scientist.: Dr.Eddy Giusepe Chirinos Isidro"
      ],
      "metadata": {
        "id": "o_Kwr9qZEJ7f"
      }
    },
    {
      "cell_type": "markdown",
      "source": [
        "Aqui aprenderemos a tarefa de `Classificação`. A diferença da Regressão, na qual o objetivo era predezir o valor de uma variável com respeito a diferentes características, em classificação o objetivo é atribuir uma classe (Etiqueta, Label ... são os nomes comuns) a partir das diferentes características. <font color=\"orange\">Por exemplo:</font> a classificação de imagens; onde se tenta atribuir uma etiqueta em função do valor dos píxeis."
      ],
      "metadata": {
        "id": "CiVuWTx-E4GW"
      }
    },
    {
      "cell_type": "markdown",
      "source": [
        "# Regressão Logística"
      ],
      "metadata": {
        "id": "StHnv8VebiXy"
      }
    },
    {
      "cell_type": "markdown",
      "source": [
        "Este modelo leva no nome **regressão** mas, realmente é un modelo de **classificação**. Se chama asim porque o modelo usado é o mesmo que usamos em scripts anteriores para `Regressão linear`, aplicando uma <font color=\"orange\">função sigmoid</font> à saída do modelo. Esta função transformará o valor da saída num valor entre $0$ e $1$ que pode ser **interpretado como uma probabilidad**. Aplicando um umbral à saída poderemos decidir se a amostra em questão pertence a uma classe ou não (<font color=\"orange\">por exemplo</font>: se a probabilidade é maior do $50\\%$). Asim pois, este modelo não servirá para a tarefa de <font color=\"orange\">classificação binaria</font>.\n",
        "\n",
        "$$\n",
        "  \\hat{y} = \\sigma(w_0 + w_1 x_1 + w_2 x_2 + ... + w_n x_n)\n",
        "$$\n",
        "\n",
        "onde <font color=\"orange\">$\\sigma(t) = \\frac{1}{1 + e^{-t}}$</font> é a função sigmoidal."
      ],
      "metadata": {
        "id": "T7yz9L8DboX0"
      }
    },
    {
      "cell_type": "code",
      "execution_count": 2,
      "metadata": {
        "id": "oZMBD-fADr_J",
        "colab": {
          "base_uri": "https://localhost:8080/",
          "height": 334
        },
        "outputId": "36902391-f249-4d8e-f0e7-cf5729b2907b"
      },
      "outputs": [
        {
          "output_type": "display_data",
          "data": {
            "text/plain": [
              "<Figure size 864x360 with 1 Axes>"
            ],
            "image/png": "[encoded data removed]"
          },
          "metadata": {
            "needs_background": "light"
          }
        }
      ],
      "source": [
        "import numpy as np \n",
        "import matplotlib.pyplot as plt\n",
        "\n",
        "\n",
        "t = np.linspace(-10, 10, 100)\n",
        "sig = 1 / (1 + np.exp(-t))\n",
        "\n",
        "\n",
        "plt.figure(figsize=(12, 5))\n",
        "plt.plot([-10, 10], [0, 0], \"r:\")\n",
        "plt.plot([-10, 10], [0.5, 0.5], \"r:\")\n",
        "plt.plot([-10, 10], [1, 1], \"r:\")\n",
        "plt.plot([0, 0], [-1.1, 1.1], \"k-\")\n",
        "plt.plot(t, sig, \"b-\", linewidth=2, label=r\"$\\sigma(t) = \\frac{1}{1 + e^{-t}}$\")\n",
        "plt.xlabel(\"t\")\n",
        "plt.legend(loc=\"upper left\", fontsize=20)\n",
        "plt.axis([-10, 10, -0.1, 1.1])\n",
        "plt.grid(True)\n",
        "plt.show()"
      ]
    },
    {
      "cell_type": "markdown",
      "source": [
        "A seguir vamos a realizar um exemplo aplicado à CLASSIFICAÇÃO DE FLORES com o [Dataset Iris](https://www.kaggle.com/datasets/arshid/iris-flower-dataset), cujo objetivo é classificar flores em $3$ classes distintas em função do tamanho (comprimento e largura) de seus pétalos e sépalos (quatro características)."
      ],
      "metadata": {
        "id": "qrYN3xh40XJM"
      }
    },
    {
      "cell_type": "code",
      "source": [
        "from sklearn import datasets\n",
        "\n",
        "import warnings\n",
        "warnings.filterwarnings(\"ignore\")\n",
        "\n",
        "# Carregamos nossos Dados\n",
        "iris = datasets.load_iris()"
      ],
      "metadata": {
        "id": "IFvhJi1HyYhq"
      },
      "execution_count": 3,
      "outputs": []
    },
    {
      "cell_type": "markdown",
      "source": [
        "Para começar de maneira mais simples vamos usar apenas uma característica (a largura dos pétalos) e para a classificação binária ficaremos apenas como uma classe."
      ],
      "metadata": {
        "id": "Z3ELvGdg2lPd"
      }
    },
    {
      "cell_type": "code",
      "source": [
        "X = iris[\"data\"][:, 3:]  # petal width\n",
        "\n",
        "y = (iris[\"target\"] == 2).astype(np.int)  # 1 if Iris virginica, else 0"
      ],
      "metadata": {
        "id": "7QSIIA7d2kgA"
      },
      "execution_count": 4,
      "outputs": []
    },
    {
      "cell_type": "code",
      "source": [
        "X.shape"
      ],
      "metadata": {
        "colab": {
          "base_uri": "https://localhost:8080/"
        },
        "id": "mOfOISYV3SaO",
        "outputId": "b27bd359-c311-4a2d-f653-d2038be4b39c"
      },
      "execution_count": 5,
      "outputs": [
        {
          "output_type": "execute_result",
          "data": {
            "text/plain": [
              "(150, 1)"
            ]
          },
          "metadata": {},
          "execution_count": 5
        }
      ]
    },
    {
      "cell_type": "code",
      "source": [
        "y.shape"
      ],
      "metadata": {
        "colab": {
          "base_uri": "https://localhost:8080/"
        },
        "id": "xvJLgxTg3xfl",
        "outputId": "6aa25843-51d7-4609-f884-5fcb6d042b14"
      },
      "execution_count": 6,
      "outputs": [
        {
          "output_type": "execute_result",
          "data": {
            "text/plain": [
              "(150,)"
            ]
          },
          "metadata": {},
          "execution_count": 6
        }
      ]
    },
    {
      "cell_type": "code",
      "source": [
        "from sklearn.linear_model import LogisticRegression\n",
        "\n",
        "log_reg = LogisticRegression(solver=\"lbfgs\", random_state=42)\n",
        "\n",
        "# Aqui treinamos\n",
        "log_reg.fit(X, y)"
      ],
      "metadata": {
        "colab": {
          "base_uri": "https://localhost:8080/"
        },
        "id": "GtpwYjG633IU",
        "outputId": "b883fadd-336f-4b2a-989b-e779e60310b2"
      },
      "execution_count": 7,
      "outputs": [
        {
          "output_type": "execute_result",
          "data": {
            "text/plain": [
              "LogisticRegression(random_state=42)"
            ]
          },
          "metadata": {},
          "execution_count": 7
        }
      ]
    },
    {
      "cell_type": "code",
      "source": [
        "X_new = [[1.7], [1.5]]\n",
        "# predict --> para fazer prediçoes\n",
        "y_new = log_reg.predict(X_new)\n",
        "y_new"
      ],
      "metadata": {
        "colab": {
          "base_uri": "https://localhost:8080/"
        },
        "id": "KOI2ZntK4BM6",
        "outputId": "8fcbb870-81c2-4ed5-9004-2c1dd03b2e9a"
      },
      "execution_count": 8,
      "outputs": [
        {
          "output_type": "execute_result",
          "data": {
            "text/plain": [
              "array([1, 0])"
            ]
          },
          "metadata": {},
          "execution_count": 8
        }
      ]
    },
    {
      "cell_type": "markdown",
      "source": [
        "<font color=\"orange\">Podemos observar que uma flor com largura de pétalo de $1.7$ é classificada como o tipo de Iris Virginica e para uma largura de $1.5$ não é Iris Virginica.</font>"
      ],
      "metadata": {
        "id": "RaDbW12M4jNp"
      }
    },
    {
      "cell_type": "code",
      "source": [
        "X_new = np.linspace(0, 3, 1000).reshape(-1, 1)\n",
        "y_proba = log_reg.predict_proba(X_new)\n",
        "decision_boundary = X_new[y_proba[:, 1] >= 0.5][0]\n",
        "\n",
        "\n",
        "plt.figure(figsize=(12, 5))\n",
        "plt.plot(X[y==0], y[y==0], \"bs\")\n",
        "plt.plot(X[y==1], y[y==1], \"g^\")\n",
        "plt.plot([decision_boundary, decision_boundary], [-1, 2], \"r:\", linewidth=2)\n",
        "plt.plot(X_new, y_proba[:, 1], \"g-\", linewidth=2, label=\"Iris virginica\")\n",
        "plt.plot(X_new, y_proba[:, 0], \"b--\", linewidth=2, label=\"Not Iris virginica\")\n",
        "plt.text(decision_boundary+0.02, 0.15, \"Decision  boundary\", fontsize=14, color=\"k\", ha=\"center\")\n",
        "plt.arrow(decision_boundary, 0.08, -0.3, 0, head_width=0.05, head_length=0.1, fc='b', ec='b')\n",
        "plt.arrow(decision_boundary, 0.92, 0.3, 0, head_width=0.05, head_length=0.1, fc='g', ec='g')\n",
        "plt.xlabel(\"Petal width (cm)\", fontsize=14)\n",
        "plt.ylabel(\"Probability\", fontsize=14)\n",
        "plt.legend(loc=\"center left\", fontsize=14)\n",
        "plt.axis([0, 3, -0.02, 1.02])\n",
        "plt.grid(True)\n",
        "plt.show()"
      ],
      "metadata": {
        "colab": {
          "base_uri": "https://localhost:8080/",
          "height": 338
        },
        "id": "N7e6OXXj4QFe",
        "outputId": "8d89afe8-0f65-41f5-bfc1-dbef00badfef"
      },
      "execution_count": 9,
      "outputs": [
        {
          "output_type": "display_data",
          "data": {
            "text/plain": [
              "<Figure size 864x360 with 1 Axes>"
            ],
            "image/png": "[encoded data removed]"
          },
          "metadata": {
            "needs_background": "light"
          }
        }
      ]
    },
    {
      "cell_type": "markdown",
      "source": [
        "<font color=\"orange\">Podemos observar que entorno de $1.6$cm o modelo pode atribuir uma classe ou outra, no entanto comete erros já que esta fronteira é difusa. Podemos ajustar o punto de corte em função de se queremos mais ou menos FALSOS POSITIVOS ou FALSOS NEGATIVOS, o qual veremos mais para frente, em outro Script.</font>"
      ],
      "metadata": {
        "id": "D0nfxxDw6XEZ"
      }
    },
    {
      "cell_type": "code",
      "source": [
        "X = iris[\"data\"][:, (2, 3)]  # petal length, petal width\n",
        "y = (iris[\"target\"] == 2).astype(np.int)\n",
        "\n",
        "log_reg = LogisticRegression(solver=\"lbfgs\", C=10**10, random_state=42)\n",
        "log_reg.fit(X, y)"
      ],
      "metadata": {
        "id": "fKx3H80D-DKa",
        "colab": {
          "base_uri": "https://localhost:8080/"
        },
        "outputId": "3e102837-9128-4058-e9d4-42ba080d5bc0"
      },
      "execution_count": 10,
      "outputs": [
        {
          "output_type": "execute_result",
          "data": {
            "text/plain": [
              "LogisticRegression(C=10000000000, random_state=42)"
            ]
          },
          "metadata": {},
          "execution_count": 10
        }
      ]
    },
    {
      "cell_type": "code",
      "source": [
        "from matplotlib.colors import ListedColormap\n",
        "\n",
        "\n",
        "def plot_decision_regions(X, y, classifier, test_idx=None, resolution=0.02):\n",
        "    # setup marker generator and color map\n",
        "    markers = ('s', 'x', 'o', '^', 'v')\n",
        "    colors = ('red', 'blue', 'lightgreen', 'gray', 'cyan')\n",
        "    cmap = ListedColormap(colors[:len(np.unique(y))])\n",
        "    # plot the decision surface\n",
        "    x1_min, x1_max = X[:, 0].min() - 1, X[:, 0].max() + 1\n",
        "    x2_min, x2_max = X[:, 1].min() - 1, X[:, 1].max() + 1\n",
        "    xx1, xx2 = np.meshgrid(np.arange(x1_min, x1_max, resolution),\n",
        "                           np.arange(x2_min, x2_max, resolution))\n",
        "    Z = classifier.predict(np.array([xx1.ravel(), xx2.ravel()]).T)\n",
        "    Z = Z.reshape(xx1.shape)\n",
        "    plt.figure(figsize=(12, 5))\n",
        "    plt.contourf(xx1, xx2, Z, alpha=0.3, cmap=cmap)\n",
        "    plt.xlim(xx1.min(), xx1.max())\n",
        "    plt.ylim(xx2.min(), xx2.max())\n",
        "    for idx, cl in enumerate(np.unique(y)):\n",
        "        plt.scatter(x=X[y == cl, 0], \n",
        "                    y=X[y == cl, 1],\n",
        "                    alpha=0.8, \n",
        "                    c=colors[idx],\n",
        "                    marker=markers[idx], \n",
        "                    label=cl, \n",
        "                    edgecolor='black')\n",
        "    # highlight test examples\n",
        "    if test_idx:\n",
        "        # plot all examples\n",
        "        X_test, y_test = X[test_idx, :], y[test_idx]\n",
        "        plt.scatter(X_test[:, 0],\n",
        "                    X_test[:, 1],\n",
        "                    c='',\n",
        "                    edgecolor='black',\n",
        "                    alpha=1.0,\n",
        "                    linewidth=1,\n",
        "                    marker='o',\n",
        "                    s=100, \n",
        "                    label='test set')"
      ],
      "metadata": {
        "id": "CP_T4AYR7VAW"
      },
      "execution_count": 11,
      "outputs": []
    },
    {
      "cell_type": "code",
      "source": [
        "plot_decision_regions(X, y, log_reg)\n",
        "plt.xlabel('petal length')\n",
        "plt.ylabel('petal width')\n",
        "plt.legend(loc='upper left')\n",
        "plt.show()"
      ],
      "metadata": {
        "colab": {
          "base_uri": "https://localhost:8080/",
          "height": 334
        },
        "id": "CxJgF9v17ut8",
        "outputId": "72c08cf4-4fec-43cb-c60d-32ed9698789f"
      },
      "execution_count": 12,
      "outputs": [
        {
          "output_type": "display_data",
          "data": {
            "text/plain": [
              "<Figure size 864x360 with 1 Axes>"
            ],
            "image/png": "[encoded data removed]"
          },
          "metadata": {
            "needs_background": "light"
          }
        }
      ]
    },
    {
      "cell_type": "markdown",
      "source": [
        "<font color=\"orange\">Se visualizamos a fronteira de decisão observamos novamente que nosso modelo de REGRESSÃO LOGÍSTICA só funcionará bem no caso que nossas amostras sejam LINEARMENTE SEPARAVÉIS. De não ser assim, teremos erros já que o modelo não é capaz de separar os Dados melhor que uma LINHA RETA. De novo o processo de *feature engineering* consistirá em trabalhar sobre estes atributos (features) que temos, já seja mudando sua representação ou criando novas variáveis, para que possam ser linearmente separáveis (ou pelo menos com baixo error).</font>"
      ],
      "metadata": {
        "id": "kNz3ELtB74cA"
      }
    },
    {
      "cell_type": "markdown",
      "source": [
        "# Softmax Regression"
      ],
      "metadata": {
        "id": "IY2dAuAQ-Sg4"
      }
    },
    {
      "cell_type": "markdown",
      "source": [
        "O modelo anterior é muito útil na hora de resolver tarefas de CLASSIFICAÇÃO BINÁRIA, no entanto há muitas ocasiões nas que queremos classificar amostras de MÚLTIPLAS CLASSES. Para isso podemos usar o mdoelo de `SOFTMAX REGRESSION`. Este modelo consiste em usar vários modelos de Regressão Linear à vez, aplicando uma `Função Softmax` à saída para transformar os valores em uma DISTRIBUIÇÃO DE PROBABILIDADE. Para saber a que classe pertence uma amostra, simplesmente escolheremos aquela que apresente o valor máximo.\n",
        "\n",
        "\n",
        "$$\n",
        "  \\hat{y} = \\underset{k}{\\arg\\max} \\ \\ \\sigma(w_0 + w_1 x_1 + w_2 x_2 + ... + w_n x_n)_k\n",
        "$$\n",
        "\n",
        "onde <font color=\"orange\">$\\sigma(t)_k = \\frac{e^{t_k}}{\\sum^K_{k=1} e^{t_k}}$</font> é a `Função Softmax`."
      ],
      "metadata": {
        "id": "GNp4O2a1-kTg"
      }
    },
    {
      "cell_type": "code",
      "source": [
        "X = iris[\"data\"][:, (2, 3)]  # petal length, petal width\n",
        "y = iris[\"target\"]\n",
        "\n",
        "softmax_reg = LogisticRegression(multi_class=\"multinomial\", solver=\"lbfgs\", C=10, random_state=42)\n",
        "\n",
        "# Agora treinamos\n",
        "softmax_reg.fit(X, y)"
      ],
      "metadata": {
        "colab": {
          "base_uri": "https://localhost:8080/"
        },
        "id": "WfwNfrjH7x-3",
        "outputId": "3791a277-08af-4a93-d535-68bacb4a823d"
      },
      "execution_count": 13,
      "outputs": [
        {
          "output_type": "execute_result",
          "data": {
            "text/plain": [
              "LogisticRegression(C=10, multi_class='multinomial', random_state=42)"
            ]
          },
          "metadata": {},
          "execution_count": 13
        }
      ]
    },
    {
      "cell_type": "code",
      "source": [
        "print(\"A classe é: \", softmax_reg.predict([[5, 2]]))\n",
        "print(\"\")\n",
        "print(\"As probabilidades para cada classe são: \", softmax_reg.predict_proba([[5, 2]]))"
      ],
      "metadata": {
        "colab": {
          "base_uri": "https://localhost:8080/"
        },
        "id": "EZfX7kVqBgYx",
        "outputId": "c1887b36-a07a-4b48-94a5-f4b68b1d8a1b"
      },
      "execution_count": 14,
      "outputs": [
        {
          "output_type": "stream",
          "name": "stdout",
          "text": [
            "A classe é:  [2]\n",
            "\n",
            "As probabilidades para cada classe são:  [[6.38014896e-07 5.74929995e-02 9.42506362e-01]]\n"
          ]
        }
      ]
    },
    {
      "cell_type": "markdown",
      "source": [
        "<font color=\"orange\">Neste caso, para uma flor com comprimento e largura de pétalo de $5$ e $3$cm respectivamente, o modelo atribui a CLASSE $2$. Podemos observar, também, as PROBABILIDADES atribuídas a cada classe (a CLASSE ATRIBUÍDA é aquela com probabilidade MÁXIMA).</font>"
      ],
      "metadata": {
        "id": "FwITi0S4CTbU"
      }
    },
    {
      "cell_type": "code",
      "source": [
        "plot_decision_regions(X, y, softmax_reg)\n",
        "plt.xlabel('petal length [standardized]')\n",
        "plt.ylabel('petal width [standardized]')\n",
        "plt.legend(loc='upper left')\n",
        "plt.show()"
      ],
      "metadata": {
        "colab": {
          "base_uri": "https://localhost:8080/",
          "height": 334
        },
        "id": "i6pDuCuJBoFB",
        "outputId": "80d4a716-7708-451a-b5bd-a376417eee3f"
      },
      "execution_count": 15,
      "outputs": [
        {
          "output_type": "display_data",
          "data": {
            "text/plain": [
              "<Figure size 864x360 with 1 Axes>"
            ],
            "image/png": "[encoded data removed]"
          },
          "metadata": {
            "needs_background": "light"
          }
        }
      ]
    },
    {
      "cell_type": "markdown",
      "source": [
        "<font color=\"orange\">Mais uma vez, este modelo só é capaz de separar os Dados usando LINHAS, pelo que se estes não foram Linearmente Separáveis teremos erros e necessitaremos usar **feature engineering** ou bem usar modelos mais sofisticados que estudaremos nos seguintes scripts.</font>"
      ],
      "metadata": {
        "id": "H3cYbdw-D-8_"
      }
    },
    {
      "cell_type": "markdown",
      "source": [
        "# Descenso por Gradiente"
      ],
      "metadata": {
        "id": "OgceU3EhI2ml"
      }
    },
    {
      "cell_type": "markdown",
      "source": [
        "Da mesma maneira que para o caso da `Regressão Linear`, estes modelos precisam ter todo o Dataset em memoria para poder ser treinado. No caso em que seja possível, podemos recorrer ao Algoritmo de `Gradient Descent`.\n"
      ],
      "metadata": {
        "id": "kBSu-rFfI9ee"
      }
    },
    {
      "cell_type": "code",
      "source": [
        "from sklearn import datasets\n",
        "\n",
        "iris = datasets.load_iris()\n",
        "X = iris[\"data\"][:, (2, 3)]  # petal length, petal width\n",
        "y = iris[\"target\"]"
      ],
      "metadata": {
        "id": "IsmzI6aCDaBz"
      },
      "execution_count": 16,
      "outputs": []
    },
    {
      "cell_type": "code",
      "source": [
        "X.shape"
      ],
      "metadata": {
        "colab": {
          "base_uri": "https://localhost:8080/"
        },
        "id": "y7d867HpG6le",
        "outputId": "dc62c173-9905-44a3-b962-0f43849e7b3c"
      },
      "execution_count": 17,
      "outputs": [
        {
          "output_type": "execute_result",
          "data": {
            "text/plain": [
              "(150, 2)"
            ]
          },
          "metadata": {},
          "execution_count": 17
        }
      ]
    },
    {
      "cell_type": "code",
      "source": [
        "y.shape"
      ],
      "metadata": {
        "colab": {
          "base_uri": "https://localhost:8080/"
        },
        "id": "PvgakNfWHDmg",
        "outputId": "0efad613-d920-4224-fce9-f7d36bf9271c"
      },
      "execution_count": 18,
      "outputs": [
        {
          "output_type": "execute_result",
          "data": {
            "text/plain": [
              "(150,)"
            ]
          },
          "metadata": {},
          "execution_count": 18
        }
      ]
    },
    {
      "cell_type": "markdown",
      "source": [
        "Separamos algumas amostras para Validação."
      ],
      "metadata": {
        "id": "TEUocfPOHHIh"
      }
    },
    {
      "cell_type": "code",
      "source": [
        "import numpy as np\n",
        "\n",
        "\n",
        "X_with_bias = np.c_[np.ones([len(X), 1]), X] # add the bias term (x0 = 1)\n",
        "\n",
        "test_ratio = 0.2\n",
        "total_size = len(X)\n",
        "\n",
        "test_size = int(total_size * test_ratio)\n",
        "train_size = total_size - test_size\n",
        "\n",
        "rnd_indices = np.random.permutation(total_size)\n",
        "\n",
        "X_train = X_with_bias[rnd_indices[:train_size]]\n",
        "y_train = y[rnd_indices[:train_size]]\n",
        "X_test = X_with_bias[rnd_indices[-test_size:]]\n",
        "y_test = y[rnd_indices[-test_size:]]\n",
        "\n",
        "X_train.shape, X_test.shape"
      ],
      "metadata": {
        "colab": {
          "base_uri": "https://localhost:8080/"
        },
        "id": "JZXEI-oEHEks",
        "outputId": "52a02a13-7412-467d-b2ed-a21aa01813a7"
      },
      "execution_count": 19,
      "outputs": [
        {
          "output_type": "execute_result",
          "data": {
            "text/plain": [
              "((120, 3), (30, 3))"
            ]
          },
          "metadata": {},
          "execution_count": 19
        }
      ]
    },
    {
      "cell_type": "markdown",
      "source": [
        "Para poder treinar nosso modelo com o algoritmo de Descenso por Gradiente devemos transformar nossas etiquetas em probabilidades."
      ],
      "metadata": {
        "id": "O2deblLNHWy9"
      }
    },
    {
      "cell_type": "code",
      "source": [
        "def to_one_hot(y):\n",
        "    n_classes = y.max() + 1\n",
        "    m = len(y)\n",
        "    Y_one_hot = np.zeros((m, n_classes))\n",
        "    Y_one_hot[np.arange(m), y] = 1\n",
        "    return Y_one_hot\n",
        "\n",
        "a = np.array([0, 1, 2])\n",
        "a_one_hot = np.array([[1., 0., 0.],\n",
        "                      [0., 1., 0.],\n",
        "                      [0., 0., 1.]])\n",
        "\n",
        "assert np.allclose(a_one_hot,to_one_hot(a))\n",
        "\n",
        "Y_train_one_hot = to_one_hot(y_train)\n",
        "Y_test_one_hot = to_one_hot(y_test)"
      ],
      "metadata": {
        "id": "018WkskaHRzr"
      },
      "execution_count": 20,
      "outputs": []
    },
    {
      "cell_type": "markdown",
      "source": [
        "Agora já podemos treinar nosso modelo. Lembra que para aplicar o algoritmo de descenso por gradiente precisamos uma função de perda e sua derivada. <font color=\"yellow\">Para o caso da `Regressão logística` podemos usar a função `log-loss`</font>.\n",
        "\n",
        "$$\n",
        "  J(\\mathbf{w}) = - \\frac{1}{N} \\sum^{N}_{j=1} \\left[ y^{(j)} log(\\hat{p}^{(j)}) + (1-y^{(j)})log(1-\\hat{p}^{(j)})\\right]\n",
        "$$\n",
        "\n",
        "$$\n",
        "  \\frac{\\partial J}{\\partial w_i} =  \\frac{1}{N} \\sum^{N}_{j=1} (\\sigma(\\mathbf{w} \\cdot \\mathbf{x}^{(i)}) - y^{(i)})x^{(j)}_i\n",
        "$$\n",
        "\n",
        "<font color=\"yellow\">Enquanto, que se usarmos a função `softmax` deveremos aplicar a função `Cross-Entropy`</font>.\n",
        "\n",
        "$$\n",
        "  J(\\mathbf{w}) = - \\frac{1}{N} \\sum^N_{j=1} \\sum^K_{k=1} y_k^{(j)} log(\\hat{p}_k^{(j)})\n",
        "$$\n",
        "\n",
        "$$\n",
        "  \\frac{\\partial J_k}{\\partial \\mathbf{w}} =  \\frac{1}{N} \\sum^{N}_{j=1} (\\hat{p}_k^{(j)} - y_k^{(j)}) \\mathbf{x}^{(j)}\n",
        "$$"
      ],
      "metadata": {
        "id": "RgmcBnUdIBVi"
      }
    },
    {
      "cell_type": "code",
      "source": [
        "def softmax(logits):\n",
        "    exps = np.exp(logits)\n",
        "    exp_sums = np.sum(exps, axis=1, keepdims=True)\n",
        "    return exps / exp_sums\n",
        "    \n",
        "\n",
        "n_features = X_train.shape[1] # == 3 (2 features plus the bias term)\n",
        "n_outputs = len(np.unique(y_train))   # == 3 (3 iris classes)\n",
        "\n",
        "eta = 0.01\n",
        "n_iterations = 5001\n",
        "m = len(X_train)\n",
        "epsilon = 1e-7\n",
        "\n",
        "w = np.random.randn(n_features, n_outputs)\n",
        "\n",
        "\n",
        "for iteration in range(n_iterations):\n",
        "    logits = X_train.dot(w)\n",
        "    Y_proba = softmax(logits)\n",
        "    loss = -np.mean(np.sum(Y_train_one_hot * np.log(Y_proba + epsilon), axis=1))\n",
        "    error = Y_proba - Y_train_one_hot\n",
        "    if iteration % 500 == 0:\n",
        "        print(iteration, loss)\n",
        "    gradients = 1/m *X_train.T.dot(error)\n",
        "    w = w - eta * gradients"
      ],
      "metadata": {
        "colab": {
          "base_uri": "https://localhost:8080/"
        },
        "id": "0B_u7vocH4Wn",
        "outputId": "46c55d2b-efb7-4617-d191-e1a3c673d261"
      },
      "execution_count": 21,
      "outputs": [
        {
          "output_type": "stream",
          "name": "stdout",
          "text": [
            "0 4.360096167327058\n",
            "500 0.8135083753770966\n",
            "1000 0.6685429897513683\n",
            "1500 0.5838261323843703\n",
            "2000 0.5288557693346867\n",
            "2500 0.48989181334638815\n",
            "3000 0.46037343924164154\n",
            "3500 0.43688620793931165\n",
            "4000 0.41750392205654935\n",
            "4500 0.40106262429822526\n",
            "5000 0.3868174707125052\n"
          ]
        }
      ]
    },
    {
      "cell_type": "code",
      "source": [
        "logits = X_test.dot(w)\n",
        "Y_proba = softmax(logits)\n",
        "y_predict = np.argmax(Y_proba, axis=1)\n",
        "\n",
        "accuracy_score = np.mean(y_predict == y_test)\n",
        "accuracy_score"
      ],
      "metadata": {
        "colab": {
          "base_uri": "https://localhost:8080/"
        },
        "id": "J_6dYG0yKgud",
        "outputId": "8fc2e5f7-a66b-443e-e1c3-ae523c6e0d60"
      },
      "execution_count": 22,
      "outputs": [
        {
          "output_type": "execute_result",
          "data": {
            "text/plain": [
              "0.9"
            ]
          },
          "metadata": {},
          "execution_count": 22
        }
      ]
    },
    {
      "cell_type": "markdown",
      "source": [
        "Nosso modelo chega a uma accuracy do $90\\%$ nos Dados de test, e podemos visualizar as fronteras de decisão que, como é de esperar, são também Lineares."
      ],
      "metadata": {
        "id": "QhZZNlo5Kl9I"
      }
    },
    {
      "cell_type": "code",
      "source": [
        "import matplotlib.pyplot as plt \n",
        "\n",
        "x0, x1 = np.meshgrid(\n",
        "        np.linspace(0, 8, 500).reshape(-1, 1),\n",
        "        np.linspace(0, 3, 200).reshape(-1, 1),\n",
        "    )\n",
        "X_new = np.c_[x0.ravel(), x1.ravel()]\n",
        "X_new_with_bias = np.c_[np.ones([len(X_new), 1]), X_new]\n",
        "\n",
        "logits = X_new_with_bias.dot(w)\n",
        "Y_proba = softmax(logits)\n",
        "y_predict = np.argmax(Y_proba, axis=1)\n",
        "\n",
        "zz1 = Y_proba[:, 1].reshape(x0.shape)\n",
        "zz = y_predict.reshape(x0.shape)\n",
        "\n",
        "plt.figure(figsize=(10, 4))\n",
        "plt.plot(X[y==2, 0], X[y==2, 1], \"g^\", label=\"Iris virginica\")\n",
        "plt.plot(X[y==1, 0], X[y==1, 1], \"bs\", label=\"Iris versicolor\")\n",
        "plt.plot(X[y==0, 0], X[y==0, 1], \"yo\", label=\"Iris setosa\")\n",
        "\n",
        "from matplotlib.colors import ListedColormap\n",
        "custom_cmap = ListedColormap(['#fafab0','#9898ff','#a0faa0'])\n",
        "\n",
        "plt.contourf(x0, x1, zz, cmap=custom_cmap)\n",
        "contour = plt.contour(x0, x1, zz1, cmap=plt.cm.brg)\n",
        "plt.clabel(contour, inline=1, fontsize=12)\n",
        "plt.xlabel(\"Petal length\", fontsize=14)\n",
        "plt.ylabel(\"Petal width\", fontsize=14)\n",
        "plt.legend(loc=\"upper left\", fontsize=14)\n",
        "plt.axis([0, 7, 0, 3])\n",
        "plt.show()"
      ],
      "metadata": {
        "colab": {
          "base_uri": "https://localhost:8080/",
          "height": 287
        },
        "id": "1oo7NpXwKjqR",
        "outputId": "19d6fdc3-e6b0-434c-f534-f97a5cf2c7c7"
      },
      "execution_count": 23,
      "outputs": [
        {
          "output_type": "display_data",
          "data": {
            "text/plain": [
              "<Figure size 720x288 with 1 Axes>"
            ],
            "image/png": "[encoded data removed]"
          },
          "metadata": {
            "needs_background": "light"
          }
        }
      ]
    }
  ]
}