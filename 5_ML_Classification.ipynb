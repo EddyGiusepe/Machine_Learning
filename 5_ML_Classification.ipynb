{
  "nbformat": 4,
  "nbformat_minor": 0,
  "metadata": {
    "colab": {
      "name": "5_ML_Classification.ipynb",
      "provenance": [],
      "collapsed_sections": [],
      "authorship_tag": "ABX9TyNEtj5iUvxOykWqzWXi5kYy",
      "include_colab_link": true
    },
    "kernelspec": {
      "name": "python3",
      "display_name": "Python 3"
    },
    "language_info": {
      "name": "python"
    }
  },
  "cells": [
    {
      "cell_type": "markdown",
      "metadata": {
        "id": "view-in-github",
        "colab_type": "text"
      },
      "source": [
        "<a href=\"https://colab.research.google.com/github/EddyGiusepe/Machine_Learning/blob/main/5_ML_Classification.ipynb\" target=\"_parent\"><img src=\"https://colab.research.google.com/assets/colab-badge.svg\" alt=\"Open In Colab\"/></a>"
      ]
    },
    {
      "cell_type": "markdown",
      "source": [
        "<h2 align=\"center\">Machine Learning: Classificação</h2>\n",
        "\n",
        "\n",
        "\n",
        "Data Scientist.: Dr.Eddy Giusepe Chirinos Isidro"
      ],
      "metadata": {
        "id": "o_Kwr9qZEJ7f"
      }
    },
    {
      "cell_type": "markdown",
      "source": [
        "Aqui aprenderemos a tarefa de `Classificação`. A diferença da Regressão, na qual o objetivo era predezir o valor de uma variável com respeito a diferentes características, em classificação o objetivo é atribuir uma classe (Etiqueta, Label ... são os nomes comuns) a partir das diferentes características. <font color=\"orange\">Por exemplo:</font> a classificação de imagens; onde se tenta atribuir uma etiqueta em função do valor dos píxeis."
      ],
      "metadata": {
        "id": "CiVuWTx-E4GW"
      }
    },
    {
      "cell_type": "markdown",
      "source": [
        "# Regressão Logística"
      ],
      "metadata": {
        "id": "StHnv8VebiXy"
      }
    },
    {
      "cell_type": "markdown",
      "source": [
        "Este modelo leva no nome **regressão** mas, realmente é un modelo de **classificação**. Se chama asim porque o modelo usado é o mesmo que usamos em scripts anteriores para `Regressão linear`, aplicando uma <font color=\"orange\">função sigmoid</font> à saída do modelo. Esta função transformará o valor da saída num valor entre $0$ e $1$ que pode ser **interpretado como uma probabilidad**. Aplicando um umbral à saída poderemos decidir se a amostra em questão pertence a uma classe ou não (<font color=\"orange\">por exemplo</font>: se a probabilidade é maior do $50\\%$). Asim pois, este modelo não servirá para a tarefa de <font color=\"orange\">classificação binaria</font>.\n",
        "\n",
        "$$\n",
        "  \\hat{y} = \\sigma(w_0 + w_1 x_1 + w_2 x_2 + ... + w_n x_n)\n",
        "$$\n",
        "\n",
        "onde <font color=\"orange\">$\\sigma(t) = \\frac{1}{1 + e^{-t}}$</font> é a função sigmoidal."
      ],
      "metadata": {
        "id": "T7yz9L8DboX0"
      }
    },
    {
      "cell_type": "code",
      "execution_count": null,
      "metadata": {
        "id": "oZMBD-fADr_J"
      },
      "outputs": [],
      "source": [
        ""
      ]
    }
  ]
}