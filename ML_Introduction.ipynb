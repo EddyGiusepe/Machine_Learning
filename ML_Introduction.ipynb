{
  "nbformat": 4,
  "nbformat_minor": 0,
  "metadata": {
    "colab": {
      "name": "ML_Introduction.ipynb",
      "provenance": [],
      "collapsed_sections": [
        "NbDtjx_AhK17",
        "o9ewn397lfu_",
        "ycvjSoscm11m",
        "y5F8Tp77ptB5"
      ],
      "authorship_tag": "ABX9TyO0rF6f+JhDBUhytwIcWyea",
      "include_colab_link": true
    },
    "kernelspec": {
      "name": "python3",
      "display_name": "Python 3"
    },
    "language_info": {
      "name": "python"
    }
  },
  "cells": [
    {
      "cell_type": "markdown",
      "metadata": {
        "id": "view-in-github",
        "colab_type": "text"
      },
      "source": [
        "<a href=\"https://colab.research.google.com/github/EddyGiusepe/Machine_Learning/blob/main/ML_Introduction.ipynb\" target=\"_parent\"><img src=\"https://colab.research.google.com/assets/colab-badge.svg\" alt=\"Open In Colab\"/></a>"
      ]
    },
    {
      "cell_type": "markdown",
      "source": [
        "<h2 align=\"center\">Introdução a Machine Learning</h2>\n",
        "\n",
        "\n",
        "\n",
        "Data Scientist.: Dr.Eddy Giusepe Chirinos Isidro"
      ],
      "metadata": {
        "id": "8VTqYVFo-7Ov"
      }
    },
    {
      "cell_type": "markdown",
      "source": [
        "# O que é Machine Learning?\n",
        "\n",
        "`Machine learning` é um ramo da inteligência artificial (IA) e da ciência da computação que se concentra no uso de dados e algoritmos para imitar a maneira como os humanos aprendem, melhorando gradualmente sua precisão.\n",
        "\n",
        "Machine learning é um componente importante do crescente campo da ciência de dados. Por meio do uso de métodos estatísticos, os algoritmos são treinados para fazer `classificações` ou `previsões`, revelando os principais insights em projetos de mineração de dados. Esses insights subsequentemente conduzem a *tomada de decisões* em aplicativos e negócios, impactando de forma ideal as principais métricas de crescimento. Conforme o `Big Data` continua a se expandir e crescer, a demanda do mercado por `Cientistas de Dados` aumentará, exigindo que eles auxiliem na identificação das questões de negócios mais relevantes e, posteriormente, os dados para respondê-las."
      ],
      "metadata": {
        "id": "NbDtjx_AhK17"
      }
    },
    {
      "cell_type": "markdown",
      "source": [
        "## Métodos de Machine Learning (ML)"
      ],
      "metadata": {
        "id": "wUClsggBiqwP"
      }
    },
    {
      "cell_type": "markdown",
      "source": [
        "### Aprendizado supervisionado\n",
        "\n",
        "\n",
        "[Aprendizado supervisionado](https://www.ibm.com/cloud/learn/supervised-learning), também conhecido como machine learning supervisionado, é definido pelo uso de Conjuntos de **Dados rotulados** para treinar algoritmos que classificam Dados ou preveem resultados com precisão. Conforme os Dados de entrada são alimentados no modelo, ele ajusta seus pesos até que o modelo tenha sido ajustado de maneira adequada. Isso ocorre como parte do processo de validação cruzada para garantir que o modelo evita [super ajuste](https://www.ibm.com/cloud/learn/overfitting) ou [sub-ajuste](https://www.ibm.com/cloud/learn/underfitting). O aprendizado supervisionado ajuda as organizações a resolver uma variedade de problemas do mundo real em grande escala, como a `classificação de spam em uma pasta separada da sua caixa de entrada`. Alguns métodos usados na aprendizagem supervisionada incluem redes neurais, `naïve bayes`, `regressão linear`, `regressão logística`, `floresta aleatória`, `máquina de vetores de suporte` (**SVM**) e muito mais.\n",
        "\n",
        "\n"
      ],
      "metadata": {
        "id": "ijvU691dit01"
      }
    },
    {
      "cell_type": "markdown",
      "source": [
        "### Aprendizado não-supervisionado\n",
        "\n",
        "\n",
        "[Aprendizado não-supervisionado](https://www.ibm.com/cloud/learn/unsupervised-learning), também conhecido como machine learning não supervisionado, usa algoritmos de machine learning para `analisar e agrupar (clusters) conjuntos de dados não rotulados`. Esses algoritmos descobrem padrões ocultos ou agrupamentos de dados sem a necessidade de intervenção humana. Sua capacidade de descobrir semelhanças e diferenças nas informações torna a solução ideal para análise exploratória de dados, estratégias de vendas cruzadas, `segmentação de clientes`, imagem e reconhecimento de padrões. Também é usado para reduzir o número de recursos em um modelo por meio do processo de redução de dimensionalidade, a `Análise de Componente Principal` (**PCA**) e a decomposição de valor singular (SVD) são duas abordagens comuns para isso. Outros algoritmos usados no aprendizado não-supervisionado incluem redes neurais, armazenamento em cluster de k-médias (k-means), métodos de armazenamento em cluster probabilístico e muito mais.\n"
      ],
      "metadata": {
        "id": "71d0xvBajuMW"
      }
    },
    {
      "cell_type": "markdown",
      "source": [
        "### Aprendizado semi-supervisionado\n",
        "\n",
        "O aprendizado semissupervisionado oferece um bom meio-termo entre o aprendizado supervisionado e o não supervisionado. Durante o treinamento, ele usa um conjunto de dados rotulado menor para orientar a classificação e a extração de recursos de um conjunto de dados maior e não rotulado. O aprendizado semissupervisionado pode resolver o problema de não haver dados rotulados suficientes (ou não ser capaz de rotular dados suficientes) para o treinamento de um algoritmo de aprendizado supervisionado."
      ],
      "metadata": {
        "id": "8--2mvDOk4Yc"
      }
    },
    {
      "cell_type": "markdown",
      "source": [
        "# Tarefas de ML"
      ],
      "metadata": {
        "id": "o9ewn397lfu_"
      }
    },
    {
      "cell_type": "markdown",
      "source": [
        "As principais tarefas que podemos levar a cabo com ML são: Classificação, Regressão e Clustering. Para cada tarefa, numerosos algoritmos existem:"
      ],
      "metadata": {
        "id": "fNVA70OolojW"
      }
    },
    {
      "cell_type": "markdown",
      "source": [
        "![](https://www.mathworks.com/help/stats/machinelearningtypes.jpg)"
      ],
      "metadata": {
        "id": "BDgOOkcAmMMF"
      }
    },
    {
      "cell_type": "markdown",
      "source": [
        "# Os Dados"
      ],
      "metadata": {
        "id": "ycvjSoscm11m"
      }
    },
    {
      "cell_type": "markdown",
      "source": [
        "Os Dados são a parte fundamental do Machine Learning. Por exemplo: dois conjuntos de Dados diferentes nos dará resultados muito diferentes também, mesmo que usemos o mesmo modelo e mesma receita de treinamento.Por isso é importante ter um bom entendimento dos Dados e o como trabalhar com eles para ter éxito em aplicações de ML. Devemos ter em conta a separação de Dados em conjuntos de Treinamento, Validação e Teste (isto talvez seja o mais importante). "
      ],
      "metadata": {
        "id": "MocxWD25nKHR"
      }
    },
    {
      "cell_type": "markdown",
      "source": [
        "![](https://static.wixstatic.com/media/ec9f84_2afbd552b2954e31913e725431d7f772~mv2.png/v1/fill/w_515,h_315,al_c/ec9f84_2afbd552b2954e31913e725431d7f772~mv2.png)"
      ],
      "metadata": {
        "id": "yNcSJeWno-N_"
      }
    },
    {
      "cell_type": "markdown",
      "source": [
        "Assim: nós usaremos o conjunto de treinamento para TREINAR nossos modelos, o de Validação para OPTIMIZAR OS HIPERPARÂMETROS e os Dados de Teste para gerar nossas MÉTRICAS finais."
      ],
      "metadata": {
        "id": "_M9R5CTbpEEO"
      }
    },
    {
      "cell_type": "markdown",
      "source": [
        "# Principais problemas de ML"
      ],
      "metadata": {
        "id": "y5F8Tp77ptB5"
      }
    },
    {
      "cell_type": "markdown",
      "source": [
        "O desenvolvimento de aplicações de ML não é fácil, devido há que existem várias dificuldades. Algumas delas são:\n",
        "\n",
        "* Quantidade insuficiente de Dados\n",
        "* Dados não representativos\n",
        "* Dados de baixa qualidade\n",
        "* Características nos Dados irrelevantes\n",
        "* Overfitting ou Underfitting"
      ],
      "metadata": {
        "id": "dLSz4fQ-pwO5"
      }
    },
    {
      "cell_type": "markdown",
      "source": [
        "Lembrando:\n",
        "\n",
        "![](https://miro.medium.com/max/1000/1*OeJVQ7sEvOJGxfGSCpbzyA.png)"
      ],
      "metadata": {
        "id": "4HDJ75JZrQDU"
      }
    },
    {
      "cell_type": "markdown",
      "source": [
        "# Exemplo:\n"
      ],
      "metadata": {
        "id": "S7sUJszyrWfT"
      }
    },
    {
      "cell_type": "markdown",
      "source": [
        "<font color=\"orange\">Aqui vamos a encerrar esta introdução ao ML com um exemplo simples.</font> Imaginemos que desejamos descobrir se o dinheiro faz feliz às pessoas. Para isso, baixaremos um arquivo com uma lista de vários paises com seus respectivos PIB médio e um índice de satisfação populacional. "
      ],
      "metadata": {
        "id": "mFLivPoervmU"
      }
    },
    {
      "cell_type": "code",
      "execution_count": null,
      "metadata": {
        "id": "IJG56ZJE-s1L"
      },
      "outputs": [],
      "source": [
        "# Download de nossos Dados\n",
        "\n",
        "!wget https://mymldatasets.s3.eu-de.cloud-object-storage.appdomain.cloud/country_stats.csv"
      ]
    },
    {
      "cell_type": "code",
      "source": [
        "import pandas as pd\n",
        "\n",
        "\n",
        "data = pd.read_csv('country_stats.csv', index_col=\"Country\")\n",
        "data\n",
        "\n",
        "# Reparar que os índices do PANDAS são os nomes dos paise."
      ],
      "metadata": {
        "colab": {
          "base_uri": "https://localhost:8080/",
          "height": 990
        },
        "id": "u3ZgK2zltm0H",
        "outputId": "65e50ac4-f60c-43d9-99f3-079837b60a16"
      },
      "execution_count": 2,
      "outputs": [
        {
          "output_type": "execute_result",
          "data": {
            "text/plain": [
              "                 GDP per capita  Life satisfaction\n",
              "Country                                           \n",
              "Russia                 9054.914                6.0\n",
              "Turkey                 9437.372                5.6\n",
              "Hungary               12239.894                4.9\n",
              "Poland                12495.334                5.8\n",
              "Slovak Republic       15991.736                6.1\n",
              "Estonia               17288.083                5.6\n",
              "Greece                18064.288                4.8\n",
              "Portugal              19121.592                5.1\n",
              "Slovenia              20732.482                5.7\n",
              "Spain                 25864.721                6.5\n",
              "Korea                 27195.197                5.8\n",
              "Italy                 29866.581                6.0\n",
              "Japan                 32485.545                5.9\n",
              "Israel                35343.336                7.4\n",
              "New Zealand           37044.891                7.3\n",
              "France                37675.006                6.5\n",
              "Belgium               40106.632                6.9\n",
              "Germany               40996.511                7.0\n",
              "Finland               41973.988                7.4\n",
              "Canada                43331.961                7.3\n",
              "Netherlands           43603.115                7.3\n",
              "Austria               43724.031                6.9\n",
              "United Kingdom        43770.688                6.8\n",
              "Sweden                49866.266                7.2\n",
              "Iceland               50854.583                7.5\n",
              "Australia             50961.865                7.3\n",
              "Ireland               51350.744                7.0\n",
              "Denmark               52114.165                7.5\n",
              "United States         55805.204                7.2"
            ],
            "text/html": [
              "\n",
              "  <div id=\"df-4468d07d-31ee-4049-9c96-1740fffd8cc4\">\n",
              "    <div class=\"colab-df-container\">\n",
              "      <div>\n",
              "<style scoped>\n",
              "    .dataframe tbody tr th:only-of-type {\n",
              "        vertical-align: middle;\n",
              "    }\n",
              "\n",
              "    .dataframe tbody tr th {\n",
              "        vertical-align: top;\n",
              "    }\n",
              "\n",
              "    .dataframe thead th {\n",
              "        text-align: right;\n",
              "    }\n",
              "</style>\n",
              "<table border=\"1\" class=\"dataframe\">\n",
              "  <thead>\n",
              "    <tr style=\"text-align: right;\">\n",
              "      <th></th>\n",
              "      <th>GDP per capita</th>\n",
              "      <th>Life satisfaction</th>\n",
              "    </tr>\n",
              "    <tr>\n",
              "      <th>Country</th>\n",
              "      <th></th>\n",
              "      <th></th>\n",
              "    </tr>\n",
              "  </thead>\n",
              "  <tbody>\n",
              "    <tr>\n",
              "      <th>Russia</th>\n",
              "      <td>9054.914</td>\n",
              "      <td>6.0</td>\n",
              "    </tr>\n",
              "    <tr>\n",
              "      <th>Turkey</th>\n",
              "      <td>9437.372</td>\n",
              "      <td>5.6</td>\n",
              "    </tr>\n",
              "    <tr>\n",
              "      <th>Hungary</th>\n",
              "      <td>12239.894</td>\n",
              "      <td>4.9</td>\n",
              "    </tr>\n",
              "    <tr>\n",
              "      <th>Poland</th>\n",
              "      <td>12495.334</td>\n",
              "      <td>5.8</td>\n",
              "    </tr>\n",
              "    <tr>\n",
              "      <th>Slovak Republic</th>\n",
              "      <td>15991.736</td>\n",
              "      <td>6.1</td>\n",
              "    </tr>\n",
              "    <tr>\n",
              "      <th>Estonia</th>\n",
              "      <td>17288.083</td>\n",
              "      <td>5.6</td>\n",
              "    </tr>\n",
              "    <tr>\n",
              "      <th>Greece</th>\n",
              "      <td>18064.288</td>\n",
              "      <td>4.8</td>\n",
              "    </tr>\n",
              "    <tr>\n",
              "      <th>Portugal</th>\n",
              "      <td>19121.592</td>\n",
              "      <td>5.1</td>\n",
              "    </tr>\n",
              "    <tr>\n",
              "      <th>Slovenia</th>\n",
              "      <td>20732.482</td>\n",
              "      <td>5.7</td>\n",
              "    </tr>\n",
              "    <tr>\n",
              "      <th>Spain</th>\n",
              "      <td>25864.721</td>\n",
              "      <td>6.5</td>\n",
              "    </tr>\n",
              "    <tr>\n",
              "      <th>Korea</th>\n",
              "      <td>27195.197</td>\n",
              "      <td>5.8</td>\n",
              "    </tr>\n",
              "    <tr>\n",
              "      <th>Italy</th>\n",
              "      <td>29866.581</td>\n",
              "      <td>6.0</td>\n",
              "    </tr>\n",
              "    <tr>\n",
              "      <th>Japan</th>\n",
              "      <td>32485.545</td>\n",
              "      <td>5.9</td>\n",
              "    </tr>\n",
              "    <tr>\n",
              "      <th>Israel</th>\n",
              "      <td>35343.336</td>\n",
              "      <td>7.4</td>\n",
              "    </tr>\n",
              "    <tr>\n",
              "      <th>New Zealand</th>\n",
              "      <td>37044.891</td>\n",
              "      <td>7.3</td>\n",
              "    </tr>\n",
              "    <tr>\n",
              "      <th>France</th>\n",
              "      <td>37675.006</td>\n",
              "      <td>6.5</td>\n",
              "    </tr>\n",
              "    <tr>\n",
              "      <th>Belgium</th>\n",
              "      <td>40106.632</td>\n",
              "      <td>6.9</td>\n",
              "    </tr>\n",
              "    <tr>\n",
              "      <th>Germany</th>\n",
              "      <td>40996.511</td>\n",
              "      <td>7.0</td>\n",
              "    </tr>\n",
              "    <tr>\n",
              "      <th>Finland</th>\n",
              "      <td>41973.988</td>\n",
              "      <td>7.4</td>\n",
              "    </tr>\n",
              "    <tr>\n",
              "      <th>Canada</th>\n",
              "      <td>43331.961</td>\n",
              "      <td>7.3</td>\n",
              "    </tr>\n",
              "    <tr>\n",
              "      <th>Netherlands</th>\n",
              "      <td>43603.115</td>\n",
              "      <td>7.3</td>\n",
              "    </tr>\n",
              "    <tr>\n",
              "      <th>Austria</th>\n",
              "      <td>43724.031</td>\n",
              "      <td>6.9</td>\n",
              "    </tr>\n",
              "    <tr>\n",
              "      <th>United Kingdom</th>\n",
              "      <td>43770.688</td>\n",
              "      <td>6.8</td>\n",
              "    </tr>\n",
              "    <tr>\n",
              "      <th>Sweden</th>\n",
              "      <td>49866.266</td>\n",
              "      <td>7.2</td>\n",
              "    </tr>\n",
              "    <tr>\n",
              "      <th>Iceland</th>\n",
              "      <td>50854.583</td>\n",
              "      <td>7.5</td>\n",
              "    </tr>\n",
              "    <tr>\n",
              "      <th>Australia</th>\n",
              "      <td>50961.865</td>\n",
              "      <td>7.3</td>\n",
              "    </tr>\n",
              "    <tr>\n",
              "      <th>Ireland</th>\n",
              "      <td>51350.744</td>\n",
              "      <td>7.0</td>\n",
              "    </tr>\n",
              "    <tr>\n",
              "      <th>Denmark</th>\n",
              "      <td>52114.165</td>\n",
              "      <td>7.5</td>\n",
              "    </tr>\n",
              "    <tr>\n",
              "      <th>United States</th>\n",
              "      <td>55805.204</td>\n",
              "      <td>7.2</td>\n",
              "    </tr>\n",
              "  </tbody>\n",
              "</table>\n",
              "</div>\n",
              "      <button class=\"colab-df-convert\" onclick=\"convertToInteractive('df-4468d07d-31ee-4049-9c96-1740fffd8cc4')\"\n",
              "              title=\"Convert this dataframe to an interactive table.\"\n",
              "              style=\"display:none;\">\n",
              "        \n",
              "  <svg xmlns=\"http://www.w3.org/2000/svg\" height=\"24px\"viewBox=\"0 0 24 24\"\n",
              "       width=\"24px\">\n",
              "    <path d=\"M0 0h24v24H0V0z\" fill=\"none\"/>\n",
              "    <path d=\"M18.56 5.44l.94 2.06.94-2.06 2.06-.94-2.06-.94-.94-2.06-.94 2.06-2.06.94zm-11 1L8.5 8.5l.94-2.06 2.06-.94-2.06-.94L8.5 2.5l-.94 2.06-2.06.94zm10 10l.94 2.06.94-2.06 2.06-.94-2.06-.94-.94-2.06-.94 2.06-2.06.94z\"/><path d=\"M17.41 7.96l-1.37-1.37c-.4-.4-.92-.59-1.43-.59-.52 0-1.04.2-1.43.59L10.3 9.45l-7.72 7.72c-.78.78-.78 2.05 0 2.83L4 21.41c.39.39.9.59 1.41.59.51 0 1.02-.2 1.41-.59l7.78-7.78 2.81-2.81c.8-.78.8-2.07 0-2.86zM5.41 20L4 18.59l7.72-7.72 1.47 1.35L5.41 20z\"/>\n",
              "  </svg>\n",
              "      </button>\n",
              "      \n",
              "  <style>\n",
              "    .colab-df-container {\n",
              "      display:flex;\n",
              "      flex-wrap:wrap;\n",
              "      gap: 12px;\n",
              "    }\n",
              "\n",
              "    .colab-df-convert {\n",
              "      background-color: #E8F0FE;\n",
              "      border: none;\n",
              "      border-radius: 50%;\n",
              "      cursor: pointer;\n",
              "      display: none;\n",
              "      fill: #1967D2;\n",
              "      height: 32px;\n",
              "      padding: 0 0 0 0;\n",
              "      width: 32px;\n",
              "    }\n",
              "\n",
              "    .colab-df-convert:hover {\n",
              "      background-color: #E2EBFA;\n",
              "      box-shadow: 0px 1px 2px rgba(60, 64, 67, 0.3), 0px 1px 3px 1px rgba(60, 64, 67, 0.15);\n",
              "      fill: #174EA6;\n",
              "    }\n",
              "\n",
              "    [theme=dark] .colab-df-convert {\n",
              "      background-color: #3B4455;\n",
              "      fill: #D2E3FC;\n",
              "    }\n",
              "\n",
              "    [theme=dark] .colab-df-convert:hover {\n",
              "      background-color: #434B5C;\n",
              "      box-shadow: 0px 1px 3px 1px rgba(0, 0, 0, 0.15);\n",
              "      filter: drop-shadow(0px 1px 2px rgba(0, 0, 0, 0.3));\n",
              "      fill: #FFFFFF;\n",
              "    }\n",
              "  </style>\n",
              "\n",
              "      <script>\n",
              "        const buttonEl =\n",
              "          document.querySelector('#df-4468d07d-31ee-4049-9c96-1740fffd8cc4 button.colab-df-convert');\n",
              "        buttonEl.style.display =\n",
              "          google.colab.kernel.accessAllowed ? 'block' : 'none';\n",
              "\n",
              "        async function convertToInteractive(key) {\n",
              "          const element = document.querySelector('#df-4468d07d-31ee-4049-9c96-1740fffd8cc4');\n",
              "          const dataTable =\n",
              "            await google.colab.kernel.invokeFunction('convertToInteractive',\n",
              "                                                     [key], {});\n",
              "          if (!dataTable) return;\n",
              "\n",
              "          const docLinkHtml = 'Like what you see? Visit the ' +\n",
              "            '<a target=\"_blank\" href=https://colab.research.google.com/notebooks/data_table.ipynb>data table notebook</a>'\n",
              "            + ' to learn more about interactive tables.';\n",
              "          element.innerHTML = '';\n",
              "          dataTable['output_type'] = 'display_data';\n",
              "          await google.colab.output.renderOutput(dataTable, element);\n",
              "          const docLink = document.createElement('div');\n",
              "          docLink.innerHTML = docLinkHtml;\n",
              "          element.appendChild(docLink);\n",
              "        }\n",
              "      </script>\n",
              "    </div>\n",
              "  </div>\n",
              "  "
            ]
          },
          "metadata": {},
          "execution_count": 2
        }
      ]
    },
    {
      "cell_type": "code",
      "source": [
        "data.shape"
      ],
      "metadata": {
        "colab": {
          "base_uri": "https://localhost:8080/"
        },
        "id": "NceT_Rivt2ow",
        "outputId": "f6cfc8f2-9865-492d-e9dd-70b583e7b1de"
      },
      "execution_count": 3,
      "outputs": [
        {
          "output_type": "execute_result",
          "data": {
            "text/plain": [
              "(29, 2)"
            ]
          },
          "metadata": {},
          "execution_count": 3
        }
      ]
    },
    {
      "cell_type": "code",
      "source": [
        "import matplotlib.pyplot as plt\n",
        "%matplotlib inline\n",
        "\n",
        "# Realizamos um plot de nossos Dados.\n",
        "data.plot(kind='scatter', x=\"GDP per capita\", y='Life satisfaction', figsize=(12, 5), c='r')\n",
        "plt.grid(True)\n",
        "plt.xlabel(\"GDP per capita\", fontsize=18)\n",
        "plt.ylabel(\"Life satisfaction\", fontsize=18)\n",
        "plt.show()"
      ],
      "metadata": {
        "colab": {
          "base_uri": "https://localhost:8080/",
          "height": 342
        },
        "id": "2aSNkrRWt8hn",
        "outputId": "6195847c-b5ee-43ce-b8ca-958bf72ad963"
      },
      "execution_count": 31,
      "outputs": [
        {
          "output_type": "display_data",
          "data": {
            "text/plain": [
              "<Figure size 864x360 with 1 Axes>"
            ],
            "image/png": "[encoded data removed]"
          },
          "metadata": {
            "needs_background": "light"
          }
        }
      ]
    },
    {
      "cell_type": "markdown",
      "source": [
        "Como podemos observar no gráfico, parece que efetivamente existe algum tipo de correlaçãoentre ambas variáveis. Um primeiro modelo de ML poderia consistir em plotear uma LINHA RETA que siga esta tendência.\n",
        "\n",
        "$$y = mx + b$$\n",
        "\n",
        "onde `y` é a variável que queremos prever (a felicidade das pessoas), `x` é o PIB do país e `m` e `b` são duas constantes que queremos encontrar (os parâmetros de nosso modelo). Para isso usaremos a biblioteca [scikit-learn](https://scikit-learn.org/stable/)."
      ],
      "metadata": {
        "id": "AuK4nDWEy9Lw"
      }
    },
    {
      "cell_type": "code",
      "source": [
        "from sklearn import linear_model\n",
        "import numpy as np\n",
        "\n",
        "\n",
        "lin1 = linear_model.LinearRegression()\n",
        "\n",
        "Xsample = np.c_[data[\"GDP per capita\"]]\n",
        "ysample = np.c_[data[\"Life satisfaction\"]]\n",
        "\n",
        "# Aqui ajustamos o Modelo a nossos Dados\n",
        "lin1.fit(Xsample, ysample)\n",
        "\n",
        "b, m = lin1.intercept_[0], lin1.coef_[0][0]\n",
        "\n",
        "b, m"
      ],
      "metadata": {
        "colab": {
          "base_uri": "https://localhost:8080/"
        },
        "id": "_xghfJrSupYw",
        "outputId": "27e052c8-8e41-4276-9733-0416ba691ffc"
      },
      "execution_count": 32,
      "outputs": [
        {
          "output_type": "execute_result",
          "data": {
            "text/plain": [
              "(4.853052800266436, 4.9115445891584804e-05)"
            ]
          },
          "metadata": {},
          "execution_count": 32
        }
      ]
    },
    {
      "cell_type": "code",
      "source": [
        "data.plot(kind='scatter', x=\"GDP per capita\", y='Life satisfaction', figsize=(12, 5), c='r')\n",
        "\n",
        "plt.xlabel(\"GDP per capita (USD)\")\n",
        "plt.axis([0, 60000, 0, 10]) # Aqui redimensionamos nossos eixos \"x\" e \"y\"\n",
        "X=np.linspace(0, 60000, 1000)\n",
        "plt.plot(X, b + m*X, \"b\") # Aqui graficamos a \"RETA LINEAR\"  que vai passar pelos pontos (essa reta se AJUSTA a nossos Dados)\n",
        "plt.text(5000, 3.1, r\"$b = 4.85$\", fontsize=14, color=\"g\")\n",
        "plt.text(5000, 2.2, r\"$w = 4.91 \\times 10^{-5}$\", fontsize=14, color=\"g\")\n",
        "plt.grid(True)\n",
        "plt.show()"
      ],
      "metadata": {
        "colab": {
          "base_uri": "https://localhost:8080/",
          "height": 338
        },
        "id": "2_kbbdrZ1Up7",
        "outputId": "3444e421-a93a-4e7c-d7c3-88854b37c71a"
      },
      "execution_count": 43,
      "outputs": [
        {
          "output_type": "display_data",
          "data": {
            "text/plain": [
              "<Figure size 864x360 with 1 Axes>"
            ],
            "image/png": "[encoded data removed]"
          },
          "metadata": {
            "needs_background": "light"
          }
        }
      ]
    },
    {
      "cell_type": "markdown",
      "source": [
        "Agora sim!!! ... podemos usar nosso modelo para realizar `PREDIÇÕES` (**por exemplo: para um novo país**)."
      ],
      "metadata": {
        "id": "l1bDrmZi2tfy"
      }
    },
    {
      "cell_type": "code",
      "source": [
        "cyprus_gdp_per_capita = 22587\n",
        "cyprus_predicted_life_satisfaction = lin1.predict([[cyprus_gdp_per_capita]])[0][0]\n",
        "cyprus_predicted_life_satisfaction"
      ],
      "metadata": {
        "colab": {
          "base_uri": "https://localhost:8080/"
        },
        "id": "SsQ3pTSn1gXt",
        "outputId": "d35afa12-1b38-411f-faa1-bfdf85a59615"
      },
      "execution_count": 44,
      "outputs": [
        {
          "output_type": "execute_result",
          "data": {
            "text/plain": [
              "5.962423376619662"
            ]
          },
          "metadata": {},
          "execution_count": 44
        }
      ]
    },
    {
      "cell_type": "code",
      "source": [
        ""
      ],
      "metadata": {
        "id": "Z-5NvdmS3J4F"
      },
      "execution_count": null,
      "outputs": []
    }
  ]
}