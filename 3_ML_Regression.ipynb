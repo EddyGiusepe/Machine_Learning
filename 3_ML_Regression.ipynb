{
  "nbformat": 4,
  "nbformat_minor": 0,
  "metadata": {
    "colab": {
      "name": "3_ML_Regression.ipynb",
      "provenance": [],
      "collapsed_sections": [],
      "authorship_tag": "ABX9TyOOTOA3h3Fcgs0yqd5TjDQu",
      "include_colab_link": true
    },
    "kernelspec": {
      "name": "python3",
      "display_name": "Python 3"
    },
    "language_info": {
      "name": "python"
    }
  },
  "cells": [
    {
      "cell_type": "markdown",
      "metadata": {
        "id": "view-in-github",
        "colab_type": "text"
      },
      "source": [
        "<a href=\"https://colab.research.google.com/github/EddyGiusepe/Machine_Learning/blob/main/3_ML_Regression.ipynb\" target=\"_parent\"><img src=\"https://colab.research.google.com/assets/colab-badge.svg\" alt=\"Open In Colab\"/></a>"
      ]
    },
    {
      "cell_type": "markdown",
      "source": [
        "<h2 align=\"center\">Machine Learning: Regressão</h2>\n",
        "\n",
        "\n",
        "\n",
        "Data Scientist.: Dr.Eddy Giusepe Chirinos Isidro"
      ],
      "metadata": {
        "id": "wFrT0gdK0lyQ"
      }
    },
    {
      "cell_type": "markdown",
      "source": [
        "# Regressão Linear"
      ],
      "metadata": {
        "id": "93Pq3DOZ11Y2"
      }
    },
    {
      "cell_type": "markdown",
      "source": [
        "A tarefa de `REGRESSÃO` consiste em encontrar uma função que nos permita predezir o valor de uma ou mais variáveis a partir de uma ou mais características (ou features). <font color=\"orange\">Um exemplo seria</font> predezir o preço de uma casa a partir de seu número de habitações, metros quadrados, etc. O modelo mais simples para este tipo de tarefa é o modelo de `Regressão Linear`.\n",
        "\n",
        "\n",
        "$$\n",
        "  \\hat{y} = w_0 + w_1 x_1 + w_2 x_2 + ... + w_n x_n\n",
        "$$\n",
        "\n",
        "onde $\\hat{y}$ é o valor predito, $w_i$ parâmetros del modelo ou chamados pesos também (aqui também está incluso o `bias` $w_0$), $n$ é o número de características (features) e $x_i$ é a característica $i$. <font color=\"orange\">Este modelo também é conhecido como PERCEPTRON, a base das REDES NEURONAIS</font>. Entrenar um modelo de Regressão Linear consiste em encontrar o conjunto de pesos, $w_i$, que minimizem uma função de CUSTO. Neste caso de regressão linear, o `Erro Quadrático Médio` (MSE) é usado como medida de erro:\n",
        "\n",
        "$$\n",
        "  MSE(\\hat{y},y)  = \\frac{1}{N} \\sum^{N}_{j=1} (\\hat{y}^{(j)} - y^{(j)})^2\n",
        "$$\n",
        "\n",
        "onde $N$ é o número de amostras em nosso conjunto de Dados, $y^{(i)}$ é o valor real, a etiqueta (ou ground truth) da amostra $j$.   \n",
        "\n",
        "\n",
        "<font color=\"yellow\">Vejamos um exemplo:</font>"
      ],
      "metadata": {
        "id": "y2Rnip5-2CZg"
      }
    },
    {
      "cell_type": "code",
      "execution_count": 6,
      "metadata": {
        "colab": {
          "base_uri": "https://localhost:8080/",
          "height": 291
        },
        "id": "JOIDUjnW0LBo",
        "outputId": "76327e90-929c-4844-b9ce-5b6567aa5176"
      },
      "outputs": [
        {
          "output_type": "display_data",
          "data": {
            "text/plain": [
              "<Figure size 432x288 with 1 Axes>"
            ],
            "image/png": "[encoded data removed]"
          },
          "metadata": {
            "needs_background": "light"
          }
        }
      ],
      "source": [
        "import numpy as np\n",
        "import matplotlib.pyplot as plt\n",
        "\n",
        "\n",
        "X = 2 * np.random.rand(100, 1)\n",
        "y = 3 * X + np.random.randn(100, 1)\n",
        "\n",
        "plt.plot(X, y, \"r.\")\n",
        "plt.xlabel(\"$x_1$\", fontsize=18)\n",
        "plt.ylabel(\"$y$\", rotation=0, fontsize=18)\n",
        "plt.axis([0, 2, -3, 10])\n",
        "plt.grid(True)\n",
        "plt.show()"
      ]
    },
    {
      "cell_type": "markdown",
      "source": [
        "Neste caso temos apenas uma característica, $x_1$, a partir da qual queremos predezir somente uma variável $y$ (<font color=\"orange\">por exemplo o preço de uma casa em função de seus metros quadrados</font>). Podemos usar o modelo de `LinearRegression` da biblioteca `scikit-learn`. "
      ],
      "metadata": {
        "id": "0Ld-SKKBGqQT"
      }
    },
    {
      "cell_type": "code",
      "source": [
        "from sklearn.linear_model import LinearRegression\n",
        "\n",
        "# Nosso modelo\n",
        "lin_reg = LinearRegression()\n",
        "# Ajustamos nosso modelo aos Dados\n",
        "lin_reg.fit(X, y)\n",
        "\n",
        "# Calculamos os coeficientes\n",
        "lin_reg.intercept_, lin_reg.coef_"
      ],
      "metadata": {
        "colab": {
          "base_uri": "https://localhost:8080/"
        },
        "id": "Mb4ZDgiIGFNk",
        "outputId": "0e6729a0-a338-4b3f-a1b9-e82e4f2c9bb6"
      },
      "execution_count": 7,
      "outputs": [
        {
          "output_type": "execute_result",
          "data": {
            "text/plain": [
              "(array([0.0735255]), array([[2.9843614]]))"
            ]
          },
          "metadata": {},
          "execution_count": 7
        }
      ]
    },
    {
      "cell_type": "code",
      "source": [
        "X_new = np.array([[0], [2]])\n",
        "y_predict = lin_reg.predict(X_new)\n",
        "\n",
        "plt.figure(figsize=(10, 5))\n",
        "plt.plot(X_new, y_predict, \"r-\", linewidth=2, label=\"Predictions\")\n",
        "plt.plot(X, y, \"b.\")\n",
        "plt.xlabel(\"$x_1$\", fontsize=18)\n",
        "plt.ylabel(\"$y$\", rotation=0, fontsize=18)\n",
        "plt.legend(loc=\"upper left\", fontsize=14)\n",
        "plt.grid(True)\n",
        "plt.axis([0, 2, -3, 10])\n",
        "plt.show()"
      ],
      "metadata": {
        "colab": {
          "base_uri": "https://localhost:8080/",
          "height": 346
        },
        "id": "3JPsMIPTHmJ3",
        "outputId": "539c7bd3-a899-4b80-b297-172c4f070c78"
      },
      "execution_count": 10,
      "outputs": [
        {
          "output_type": "display_data",
          "data": {
            "text/plain": [
              "<Figure size 720x360 with 1 Axes>"
            ],
            "image/png": "[encoded data removed]"
          },
          "metadata": {
            "needs_background": "light"
          }
        }
      ]
    },
    {
      "cell_type": "markdown",
      "source": [
        "Como pode ver, este modelo é muito simples, eficiente e explicável. No entanto, se  nossos Dados no seguem uma tendência linear o resultado que obteremos não será bom."
      ],
      "metadata": {
        "id": "tobmiHF3ImKQ"
      }
    },
    {
      "cell_type": "markdown",
      "source": [
        "# Regressão Polinomial"
      ],
      "metadata": {
        "id": "PKmK8lrkJOYf"
      }
    },
    {
      "cell_type": "code",
      "source": [
        "import numpy.random as rnd\n",
        "\n",
        "np.random.seed(42) # Isto é só para obter os mesmos resultados quando outro cientista reproduzir este script\n",
        "\n",
        "\n",
        "m = 100\n",
        "X = 6 * np.random.rand(m, 1) - 3\n",
        "y = 0.5 * X**2 + X + 2 + np.random.randn(m, 1)\n",
        "\n",
        "\n",
        "plt.plot(X, y, \"b.\")\n",
        "plt.xlabel(\"$x_1$\", fontsize=18)\n",
        "plt.ylabel(\"$y$\", rotation=0, fontsize=18)\n",
        "plt.axis([-3, 3, 0, 10])\n",
        "plt.grid(True)\n",
        "plt.show()"
      ],
      "metadata": {
        "colab": {
          "base_uri": "https://localhost:8080/",
          "height": 291
        },
        "id": "I0jRk_flIQ4_",
        "outputId": "e1a92c9d-0644-47dd-ad49-20690f6267f3"
      },
      "execution_count": 12,
      "outputs": [
        {
          "output_type": "display_data",
          "data": {
            "text/plain": [
              "<Figure size 432x288 with 1 Axes>"
            ],
            "image/png": "[encoded data removed]"
          },
          "metadata": {
            "needs_background": "light"
          }
        }
      ]
    },
    {
      "cell_type": "code",
      "source": [
        "lin_reg = LinearRegression()\n",
        "lin_reg.fit(X, y)\n",
        "\n",
        "\n",
        "X_new = np.array([[-3], [3]])\n",
        "y_predict = lin_reg.predict(X_new)\n",
        "\n",
        "plt.plot(X_new, y_predict, \"r-\", linewidth=2, label=\"Predictions\")\n",
        "plt.plot(X, y, \"b.\")\n",
        "plt.xlabel(\"$x_1$\", fontsize=18)\n",
        "plt.ylabel(\"$y$\", rotation=0, fontsize=18)\n",
        "plt.legend(loc=\"upper left\", fontsize=14)\n",
        "plt.axis([-3, 3, 0, 10])\n",
        "plt.grid(True)\n",
        "plt.show()"
      ],
      "metadata": {
        "colab": {
          "base_uri": "https://localhost:8080/",
          "height": 291
        },
        "id": "fql7vgPmJulf",
        "outputId": "d79785a6-878b-4269-ad13-fd433e4fad69"
      },
      "execution_count": 16,
      "outputs": [
        {
          "output_type": "display_data",
          "data": {
            "text/plain": [
              "<Figure size 432x288 with 1 Axes>"
            ],
            "image/png": "[encoded data removed]"
          },
          "metadata": {
            "needs_background": "light"
          }
        }
      ]
    },
    {
      "cell_type": "markdown",
      "source": [
        "Como observamos a RETA não se ajusta aos Dados. Então, para este conjunto de Dados podemos utilizar uma FUNÇÃO POLINOMIAL."
      ],
      "metadata": {
        "id": "fHi3Xx-5Kbcd"
      }
    },
    {
      "cell_type": "code",
      "source": [
        "from sklearn.preprocessing import PolynomialFeatures\n",
        "\n",
        "# Função polinomial de grau 2 (degree=2)\n",
        "poly_features = PolynomialFeatures(degree=2, include_bias=False)\n",
        "X_poly = poly_features.fit_transform(X)\n",
        "X[0], X_poly[0]"
      ],
      "metadata": {
        "colab": {
          "base_uri": "https://localhost:8080/"
        },
        "id": "WF3WQRZAJ7lD",
        "outputId": "5643b457-7072-4776-a5cb-5d964bab3e10"
      },
      "execution_count": 17,
      "outputs": [
        {
          "output_type": "execute_result",
          "data": {
            "text/plain": [
              "(array([-0.75275929]), array([-0.75275929,  0.56664654]))"
            ]
          },
          "metadata": {},
          "execution_count": 17
        }
      ]
    },
    {
      "cell_type": "code",
      "source": [
        "lin_reg = LinearRegression()\n",
        "lin_reg.fit(X_poly, y)\n",
        "lin_reg.intercept_, lin_reg.coef_"
      ],
      "metadata": {
        "colab": {
          "base_uri": "https://localhost:8080/"
        },
        "id": "seQos4vaLK0z",
        "outputId": "771f01b1-c332-4767-94e4-869d27908e5f"
      },
      "execution_count": 18,
      "outputs": [
        {
          "output_type": "execute_result",
          "data": {
            "text/plain": [
              "(array([1.78134581]), array([[0.93366893, 0.56456263]]))"
            ]
          },
          "metadata": {},
          "execution_count": 18
        }
      ]
    },
    {
      "cell_type": "code",
      "source": [
        "X_new=np.linspace(-3, 3, 100).reshape(100, 1)\n",
        "X_new_poly = poly_features.transform(X_new)\n",
        "y_new = lin_reg.predict(X_new_poly)\n",
        "\n",
        "plt.plot(X, y, \"b.\")\n",
        "plt.plot(X_new, y_new, \"r-\", linewidth=2, label=\"Predictions\")\n",
        "plt.xlabel(\"$x_1$\", fontsize=18)\n",
        "plt.ylabel(\"$y$\", rotation=0, fontsize=18)\n",
        "plt.legend(loc=\"upper left\", fontsize=14)\n",
        "plt.axis([-3, 3, 0, 10])\n",
        "plt.grid(True)\n",
        "plt.show()"
      ],
      "metadata": {
        "colab": {
          "base_uri": "https://localhost:8080/",
          "height": 291
        },
        "id": "rBvpP9msLTu4",
        "outputId": "a027b05f-0b3e-40d7-aeca-60eee4b0dc0e"
      },
      "execution_count": 20,
      "outputs": [
        {
          "output_type": "display_data",
          "data": {
            "text/plain": [
              "<Figure size 432x288 with 1 Axes>"
            ],
            "image/png": "[encoded data removed]"
          },
          "metadata": {
            "needs_background": "light"
          }
        }
      ]
    },
    {
      "cell_type": "code",
      "source": [
        ""
      ],
      "metadata": {
        "id": "sRFRhuAsLe-4"
      },
      "execution_count": null,
      "outputs": []
    }
  ]
}