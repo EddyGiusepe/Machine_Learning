{
  "nbformat": 4,
  "nbformat_minor": 0,
  "metadata": {
    "colab": {
      "name": "4_ML_Support_Vector_Machines.ipynb",
      "provenance": [],
      "collapsed_sections": [],
      "authorship_tag": "ABX9TyOcK/gSvBjw3ODtwvNMTkHq",
      "include_colab_link": true
    },
    "kernelspec": {
      "name": "python3",
      "display_name": "Python 3"
    },
    "language_info": {
      "name": "python"
    }
  },
  "cells": [
    {
      "cell_type": "markdown",
      "metadata": {
        "id": "view-in-github",
        "colab_type": "text"
      },
      "source": [
        "<a href=\"https://colab.research.google.com/github/EddyGiusepe/Machine_Learning/blob/main/4_ML_Support_Vector_Machines.ipynb\" target=\"_parent\"><img src=\"https://colab.research.google.com/assets/colab-badge.svg\" alt=\"Open In Colab\"/></a>"
      ]
    },
    {
      "cell_type": "markdown",
      "source": [
        "<h2 align=\"center\">Machine Learning: Support Vector Machines</h2>\n",
        "\n",
        "\n",
        "\n",
        "Data Scientist.: Dr.Eddy Giusepe Chirinos Isidro"
      ],
      "metadata": {
        "id": "U8XAS3fuQ34i"
      }
    },
    {
      "cell_type": "markdown",
      "source": [
        "# Máquina de Vetores de Suporte ([Support Vector Machine: SVM](https://medium.com/@msremigio/m%C3%A1quinas-de-vetores-de-suporte-svm-77bb114d02fc))"
      ],
      "metadata": {
        "id": "2zb3vLQgTS-n"
      }
    },
    {
      "cell_type": "markdown",
      "source": [
        "É um algoritmo de aprendizado de máquina supervisionado que pode ser usado para desafios de `classificação` ou `regressão`. **No entanto, é usado principalmente em problemas de classificação.**\n",
        "\n",
        "Essencialmente, o algoritmo de SVM é responsável por encontrar a melhor fronteira de separação entre classes/rótulos possível para um dado conjunto de dados que sejam linearmente separáveis. Para o SVM, as diversas fronteiras de separação possíveis que são capazes de separar completamente as classes são chamadas de **hiperplanos**. Dessa forma, o SVM busca encontrar o melhor hiperplano para um dado dataset cujas classes são linearmente separáveis. Podemos visualizar essa ideia através do cenário base de classificação (binária). \n",
        "\n",
        "\n",
        "Em um dataset bidimensional, o hiperplano é uma reta. Em um dataset tridimensional, o hiperplano é de fato um plano. E assim sucessivamente."
      ],
      "metadata": {
        "id": "LH3F2e5NThkA"
      }
    },
    {
      "cell_type": "markdown",
      "source": [
        "![](https://www.reneshbedre.com/assets/posts/svm/svm_linear.webp)"
      ],
      "metadata": {
        "id": "GEwhnlNff-YZ"
      }
    },
    {
      "cell_type": "markdown",
      "source": [
        "# Classificação Linear com SVM"
      ],
      "metadata": {
        "id": "os0q3_I_hg7Y"
      }
    },
    {
      "cell_type": "markdown",
      "source": [
        "Enquanto os modelos de Regressão Linear se basean na ideia de MINIMIZAR o número de erros, o algoritmo SVM intenta MAXIMIZAR a distância entre as fronteiras e os Dados de treinamento."
      ],
      "metadata": {
        "id": "tYeTrjtvihBR"
      }
    },
    {
      "cell_type": "markdown",
      "source": [
        "![](https://aprenderdatascience.com/wp-content/uploads/2021/02/A2-1.png)"
      ],
      "metadata": {
        "id": "UV-90mLHiaLJ"
      }
    },
    {
      "cell_type": "code",
      "execution_count": null,
      "metadata": {
        "id": "zQCh_hSmQzqT"
      },
      "outputs": [],
      "source": [
        ""
      ]
    }
  ]
}